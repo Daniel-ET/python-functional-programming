{
 "cells": [
  {
   "cell_type": "markdown",
   "id": "22f8fc8e",
   "metadata": {},
   "source": [
    "# Example\n",
    "\n",
    "Simple calculator example to demonstrate difference between procedural and functional programming"
   ]
  },
  {
   "cell_type": "markdown",
   "id": "f9398bec",
   "metadata": {},
   "source": [
    "### Calculator app - procedural approach \n",
    "\n",
    "Functions consist of multiple statements\n",
    "* Assignments\n",
    "* if-statements\n",
    "* while loops\n",
    "* etc"
   ]
  },
  {
   "cell_type": "code",
   "execution_count": 1,
   "id": "9fb66c36",
   "metadata": {},
   "outputs": [
    {
     "name": "stdout",
     "output_type": "stream",
     "text": [
      "Welcome to the barely functional calculator!\n",
      "Enter an integer: 1\n",
      "Enter an operator (+, -, *, or /):+\n",
      "Enter an integer: 1\n",
      "The result is: 2\n"
     ]
    }
   ],
   "source": [
    "OPERATORS = '+', '-', '*', '/'\n",
    "\n",
    "def p_main():\n",
    "    \n",
    "    \"\"\"The main flow\"\"\"\n",
    "    \n",
    "    print('Welcome to the barely functional calculator!')\n",
    "    number1 = p_get_number()\n",
    "    operator = p_get_operator()\n",
    "    number2 = p_get_number()\n",
    "    result = p_calculate(number1, operator, number2)\n",
    "    print('The result is: %s' % result)\n",
    "    \n",
    "def p_get_number():\n",
    "    \n",
    "    \"\"\"Reads an integer from the standard input and returns it.\n",
    "    If a non-integer value is entered, a warining is printed, and a new value is read.\"\"\"\n",
    "    \n",
    "    while True:\n",
    "        s = input('Enter an integer: ')\n",
    "        try:\n",
    "            return int(s)\n",
    "        except ValueError:\n",
    "            print('That is not an integer!')\n",
    "            \n",
    "def p_get_operator():\n",
    "    \n",
    "    \"\"\"Reads an operator from the standard input and returns it,\n",
    "    Valid operators are: +, -, *, and /. If an invalid operator is entered\n",
    "    a warning is printed, and a new value is read.\"\"\"\n",
    "    \n",
    "    while True:\n",
    "        s = input('Enter an operator (+, -, *, or /):')\n",
    "        if s in OPERATORS:\n",
    "            return s\n",
    "        print('That is not an operator!')\n",
    "        \n",
    "def p_calculate(number1, operator, number2):\n",
    "    \n",
    "    \"\"\"Performs a calculation with two numbers and an operator,\n",
    "    and returns the result\"\"\"\n",
    "    \n",
    "    if operator =='+':\n",
    "        return number1 + number2\n",
    "    if operator =='-':\n",
    "        return number1 - number2\n",
    "    if operator =='*':\n",
    "        return number1 * number2\n",
    "    if operator =='/':\n",
    "        return number1 / number2\n",
    "    raise Exception('Invalid operator!')\n",
    "                    \n",
    "p_main()"
   ]
  },
  {
   "cell_type": "markdown",
   "id": "3a5830dc",
   "metadata": {},
   "source": [
    "### functional approach\n",
    "\n",
    "* Functions consist of only one expression\n",
    "* Note not dealing with input validation"
   ]
  },
  {
   "cell_type": "code",
   "execution_count": 2,
   "id": "f9dc5a01",
   "metadata": {},
   "outputs": [
    {
     "name": "stdout",
     "output_type": "stream",
     "text": [
      "Enter an integer: 1\n",
      "Enter an operator: +1\n",
      "Enter an integer: 1\n",
      "The result is: None\n"
     ]
    }
   ],
   "source": [
    "OPERATORS = '+', '-', '*', '/'\n",
    "\n",
    "def f_get_number():\n",
    "    \n",
    "    return int(input('Enter an integer: '))   #unsafe\n",
    "\n",
    "def f_get_operator():\n",
    "    \n",
    "    return input('Enter an operator: ')    #unsafe\n",
    "\n",
    "def f_calculate(number1, operator, number2):\n",
    "    \n",
    "    return number1+number2 if operator =='+'\\\n",
    "        else number1-number2 if operator =='-'\\\n",
    "        else number1*number2 if operator =='*'\\\n",
    "        else number1/number2 if operator =='/'\\\n",
    "        else None\n",
    "\n",
    "def f_main():\n",
    "    return f_calculate(\n",
    "    f_get_number(),\n",
    "    f_get_operator(),\n",
    "    f_get_number(),\n",
    "    )\n",
    "\n",
    "print('The result is:', f_main())"
   ]
  },
  {
   "cell_type": "markdown",
   "id": "f2108070",
   "metadata": {},
   "source": [
    "# <u> Lambda Expressions or Nameless Functions"
   ]
  },
  {
   "cell_type": "markdown",
   "id": "28c419b3",
   "metadata": {},
   "source": [
    "**Statements (the procedural way)**\n",
    "* Instructions\n",
    "* if, for, def, class, and so on\n",
    "* Don't evaluate to something\n",
    "* Cannot print the result\n",
    "\n",
    "\n"
   ]
  },
  {
   "cell_type": "code",
   "execution_count": 3,
   "id": "251492d2",
   "metadata": {},
   "outputs": [],
   "source": [
    "# Assignment\n",
    "x = 0\n",
    "x += 1\n"
   ]
  },
  {
   "cell_type": "code",
   "execution_count": 4,
   "id": "5228f201",
   "metadata": {},
   "outputs": [
    {
     "name": "stdout",
     "output_type": "stream",
     "text": [
      "x==1\n"
     ]
    }
   ],
   "source": [
    "# Conditional branching (if, elif, else)\n",
    "if x==1:\n",
    "    print('x==1')\n",
    "elif x==2:\n",
    "    print('x == 2')\n",
    "else:\n",
    "    print('x not in [1,2]')"
   ]
  },
  {
   "cell_type": "code",
   "execution_count": 5,
   "id": "4d7ec7f3",
   "metadata": {},
   "outputs": [
    {
     "name": "stdout",
     "output_type": "stream",
     "text": [
      "0\n",
      "2\n"
     ]
    }
   ],
   "source": [
    "# Loops, (generally implemented with for or while statements)\n",
    "for x in range(2):\n",
    "    print(x*2)\n",
    "    \n",
    "while True:\n",
    "    break"
   ]
  },
  {
   "cell_type": "code",
   "execution_count": 6,
   "id": "7f5371e3",
   "metadata": {},
   "outputs": [],
   "source": [
    "# Function, generator, and class definitions\n",
    "class MyClass:\n",
    "    pass\n",
    "\n",
    "def my_function(x):\n",
    "    return x*2\n",
    "\n",
    "def my_generator(x):\n",
    "    yield x*2"
   ]
  },
  {
   "cell_type": "code",
   "execution_count": 7,
   "id": "01d149ef",
   "metadata": {},
   "outputs": [],
   "source": [
    "# other statements\n",
    "import os\n",
    "\n",
    "assert True\n",
    "\n",
    "pass\n",
    "\n",
    "del x\n",
    "\n",
    "try:\n",
    "    raise Exeception()\n",
    "except:\n",
    "    pass\n",
    "\n",
    "with open('/dev/null') as fd:\n",
    "    pass"
   ]
  },
  {
   "cell_type": "markdown",
   "id": "7dd0b3f0",
   "metadata": {},
   "source": [
    "**Expressions(the functional way)**\n",
    "* Evaluate to something\n",
    "* Can print the the result\n",
    "* Function calls are expressions\n"
   ]
  },
  {
   "cell_type": "code",
   "execution_count": 8,
   "id": "b068391b",
   "metadata": {},
   "outputs": [
    {
     "name": "stdout",
     "output_type": "stream",
     "text": [
      "20\n",
      "a\n",
      "10\n",
      "None\n",
      "[0, 2]\n"
     ]
    }
   ],
   "source": [
    "#values are expression\n",
    "print(10*2)\n",
    "print('a')\n",
    "#Function calls are expressions\n",
    "print(print(10))\n",
    "# List comprehensions are expressions\n",
    "print([x*2 for x in range(2)])"
   ]
  },
  {
   "cell_type": "markdown",
   "id": "4ea14aec",
   "metadata": {},
   "source": [
    "## Lambda Functions\n",
    "\n",
    "* Lambda functions are Python's implementation of $\\lambda$ calculus\n",
    "* expressions, not statements (unlike def)\n",
    "* name not required"
   ]
  },
  {
   "cell_type": "markdown",
   "id": "259c122f",
   "metadata": {},
   "source": [
    "**A simple procedural function**\n",
    "* in procedural programming, functions are defined with def statements"
   ]
  },
  {
   "cell_type": "code",
   "execution_count": 9,
   "id": "dafd8133",
   "metadata": {},
   "outputs": [
    {
     "data": {
      "text/plain": [
       "1.4142135623730951"
      ]
     },
     "execution_count": 9,
     "metadata": {},
     "output_type": "execute_result"
    }
   ],
   "source": [
    "from math import sqrt\n",
    "\n",
    "def p_pythagoras(x, y):\n",
    "    \n",
    "    return sqrt(x**2 + y**2)\n",
    "\n",
    "p_pythagoras(1,1)"
   ]
  },
  {
   "cell_type": "markdown",
   "id": "9f95d8d9",
   "metadata": {},
   "source": [
    "**A simple lambda function**\n",
    "* In functional programming, we can use lambda expressions for the same purposes"
   ]
  },
  {
   "cell_type": "code",
   "execution_count": 10,
   "id": "0e724309",
   "metadata": {},
   "outputs": [
    {
     "data": {
      "text/plain": [
       "<function __main__.<lambda>(x, y)>"
      ]
     },
     "execution_count": 10,
     "metadata": {},
     "output_type": "execute_result"
    }
   ],
   "source": [
    "lambda x,y: sqrt(x**2 + y**2)"
   ]
  },
  {
   "cell_type": "code",
   "execution_count": 11,
   "id": "a3f4281d",
   "metadata": {},
   "outputs": [
    {
     "data": {
      "text/plain": [
       "1.4142135623730951"
      ]
     },
     "execution_count": 11,
     "metadata": {},
     "output_type": "execute_result"
    }
   ],
   "source": [
    "(lambda x,y: sqrt(x**2 + y**2))(1,1)"
   ]
  },
  {
   "cell_type": "code",
   "execution_count": 12,
   "id": "614c0c49",
   "metadata": {},
   "outputs": [
    {
     "data": {
      "text/plain": [
       "1.4142135623730951"
      ]
     },
     "execution_count": 12,
     "metadata": {},
     "output_type": "execute_result"
    }
   ],
   "source": [
    "l_pythagoras = lambda x,y: sqrt(x**2 + y**2)\n",
    "l_pythagoras(1,1)"
   ]
  },
  {
   "cell_type": "markdown",
   "id": "7a2d44d0",
   "metadata": {},
   "source": [
    "**Recursion requires a name**\n",
    "* Functions created with lambda expressions can be nameless. But for a function to call itself, it needs a name. In such cases, a `def` statament may be more intuitive"
   ]
  },
  {
   "cell_type": "code",
   "execution_count": 13,
   "id": "c0c5dda5",
   "metadata": {},
   "outputs": [
    {
     "data": {
      "text/plain": [
       "6"
      ]
     },
     "execution_count": 13,
     "metadata": {},
     "output_type": "execute_result"
    }
   ],
   "source": [
    "def f_factorial(n):\n",
    "    \n",
    "    return 1 if n==0 else n*f_factorial(n-1)\n",
    "\n",
    "f_factorial(3)"
   ]
  },
  {
   "cell_type": "code",
   "execution_count": 14,
   "id": "208caa46",
   "metadata": {},
   "outputs": [
    {
     "ename": "SyntaxError",
     "evalue": "invalid syntax (299322413.py, line 1)",
     "output_type": "error",
     "traceback": [
      "\u001b[0;36m  File \u001b[0;32m\"/tmp/ipykernel_107193/299322413.py\"\u001b[0;36m, line \u001b[0;32m1\u001b[0m\n\u001b[0;31m    lambda n: 1 if n==0 else n???(n-1)\u001b[0m\n\u001b[0m                              ^\u001b[0m\n\u001b[0;31mSyntaxError\u001b[0m\u001b[0;31m:\u001b[0m invalid syntax\n"
     ]
    }
   ],
   "source": [
    "lambda n: 1 if n==0 else n???(n-1)"
   ]
  },
  {
   "cell_type": "code",
   "execution_count": 15,
   "id": "aca2389f",
   "metadata": {},
   "outputs": [
    {
     "data": {
      "text/plain": [
       "6"
      ]
     },
     "execution_count": 15,
     "metadata": {},
     "output_type": "execute_result"
    }
   ],
   "source": [
    "l_factorial = lambda n: 1 if n==0 else n*l_factorial(n-1)\n",
    "l_factorial(3)"
   ]
  },
  {
   "cell_type": "markdown",
   "id": "d22ceef1",
   "metadata": {},
   "source": [
    "**When lambda's are convenient**\n",
    "* Lambda expressions are very convenient if you quickly need a short function, for example to pass as argument to map() or filter()\n"
   ]
  },
  {
   "cell_type": "code",
   "execution_count": 16,
   "id": "90a6218e",
   "metadata": {},
   "outputs": [
    {
     "data": {
      "text/plain": [
       "[0, 2, 4, 6, 8]"
      ]
     },
     "execution_count": 16,
     "metadata": {},
     "output_type": "execute_result"
    }
   ],
   "source": [
    "l = [0, 1, 2, 3, 4]\n",
    "list(map(lambda x: x*2, l))"
   ]
  },
  {
   "cell_type": "markdown",
   "id": "e55228ad",
   "metadata": {},
   "source": [
    "### Conditional branching without statements\n",
    "\n",
    "* All non-trivial programs rely on conditional branching.'Do A if X else do B'\n",
    "* 'if' statements are the most common way to do this\n",
    "* However 'if' statements are statements and as such cannot be used in lambda expressions and are often not inline with the philosophy of functional programming\n",
    "* But 'if' expressions can \n",
    "\n"
   ]
  },
  {
   "cell_type": "markdown",
   "id": "b57d8616",
   "metadata": {},
   "source": [
    "**Conditional branching: The procedural way**\n",
    "\n",
    "Consider a simple, procedural implementation of a function that translates grade points to grade descriptions"
   ]
  },
  {
   "cell_type": "code",
   "execution_count": 17,
   "id": "eac2b417",
   "metadata": {},
   "outputs": [
    {
     "data": {
      "text/plain": [
       "'good'"
      ]
     },
     "execution_count": 17,
     "metadata": {},
     "output_type": "execute_result"
    }
   ],
   "source": [
    "def p_grade_description(gp):\n",
    "    \n",
    "    \"\"\"Grades range between 0 and 10\"\"\"\n",
    "    \n",
    "    if gp > 7:\n",
    "        return 'good'\n",
    "    if gp > 5:\n",
    "        return 'sufficient'\n",
    "    return 'insufficient'\n",
    "\n",
    "p_grade_description(8)"
   ]
  },
  {
   "cell_type": "markdown",
   "id": "06e83963",
   "metadata": {},
   "source": [
    "**Conditional branching: The functional way**\n",
    "\n",
    "A functional implementation of `p_grade_description()` makes use of the `if` expression."
   ]
  },
  {
   "cell_type": "code",
   "execution_count": 18,
   "id": "1576f728",
   "metadata": {},
   "outputs": [
    {
     "ename": "SyntaxError",
     "evalue": "invalid syntax (3467229270.py, line 2)",
     "output_type": "error",
     "traceback": [
      "\u001b[0;36m  File \u001b[0;32m\"/tmp/ipykernel_107193/3467229270.py\"\u001b[0;36m, line \u001b[0;32m2\u001b[0m\n\u001b[0;31m    lambda gp: if gp > 7: return 'good'\u001b[0m\n\u001b[0m               ^\u001b[0m\n\u001b[0;31mSyntaxError\u001b[0m\u001b[0;31m:\u001b[0m invalid syntax\n"
     ]
    }
   ],
   "source": [
    "# will throw error\n",
    "lambda gp: if gp > 7: return 'good'"
   ]
  },
  {
   "cell_type": "code",
   "execution_count": 19,
   "id": "bc3ab536",
   "metadata": {},
   "outputs": [
    {
     "data": {
      "text/plain": [
       "<function __main__.<lambda>(gp)>"
      ]
     },
     "execution_count": 19,
     "metadata": {},
     "output_type": "execute_result"
    }
   ],
   "source": [
    "lambda gp: 'good' if gp > 7 else 'sufficient' if gp > 5 else 'insufficient'"
   ]
  },
  {
   "cell_type": "code",
   "execution_count": 20,
   "id": "18d7818c",
   "metadata": {},
   "outputs": [
    {
     "data": {
      "text/plain": [
       "'good'"
      ]
     },
     "execution_count": 20,
     "metadata": {},
     "output_type": "execute_result"
    }
   ],
   "source": [
    "(lambda gp: 'good' if gp > 7 else 'sufficient' if gp > 5 else 'insufficient')(8)"
   ]
  },
  {
   "cell_type": "markdown",
   "id": "3c5f795f",
   "metadata": {},
   "source": [
    "If expressions are useful for short simple conditional branching. If statements are often more appropriate for more complicated conditional branching in order to keep code readable. We can use `if` expressions in procedural code as well to implement concise, readable conditions."
   ]
  },
  {
   "cell_type": "code",
   "execution_count": 21,
   "id": "ba49827e",
   "metadata": {},
   "outputs": [
    {
     "name": "stdout",
     "output_type": "stream",
     "text": [
      "female\n"
     ]
    }
   ],
   "source": [
    "gender_code = 1\n",
    "gender = 'female' if gender_code else 'male'\n",
    "print(gender)"
   ]
  },
  {
   "cell_type": "markdown",
   "id": "e2d142f6",
   "metadata": {},
   "source": [
    "# <u> Higher-order Functions - Functions as Arguments and Return Values"
   ]
  },
  {
   "cell_type": "markdown",
   "id": "03683655",
   "metadata": {},
   "source": [
    "\n",
    "* In python, (Almost) everything is an object and can be passed as argument to a function\n"
   ]
  },
  {
   "cell_type": "code",
   "execution_count": 22,
   "id": "d61ecf0c",
   "metadata": {},
   "outputs": [],
   "source": [
    "# factorial function from earlier\n",
    "l_factorial = lambda n: 1 if n == 0 else n*l_factorial(n-1)"
   ]
  },
  {
   "cell_type": "markdown",
   "id": "e91ff3e2",
   "metadata": {},
   "source": [
    "## Passing a Function as an argument to Another function"
   ]
  },
  {
   "cell_type": "markdown",
   "id": "5302c451",
   "metadata": {},
   "source": [
    "**Timing - The procedural way, going line by line**"
   ]
  },
  {
   "cell_type": "markdown",
   "id": "1b365dfd",
   "metadata": {},
   "source": [
    "factorial is a recursive and hence time-consuming operation. Let's see how long it takes."
   ]
  },
  {
   "cell_type": "code",
   "execution_count": 23,
   "id": "1d9117fc",
   "metadata": {},
   "outputs": [
    {
     "name": "stdout",
     "output_type": "stream",
     "text": [
      "Took 0.000540:\n"
     ]
    }
   ],
   "source": [
    "import time\n",
    "\n",
    "t0 = time.time()\n",
    "l_factorial(900)\n",
    "t1 = time.time()\n",
    "print('Took %5f:' % (t1-t0))"
   ]
  },
  {
   "cell_type": "markdown",
   "id": "46773fb3",
   "metadata": {},
   "source": [
    "**The functional way - with a wrapper function**\n",
    "\n",
    "A better way is to write a wrapper function that times every function that's passed into it"
   ]
  },
  {
   "cell_type": "code",
   "execution_count": 24,
   "id": "13ef7c1e",
   "metadata": {
    "scrolled": true
   },
   "outputs": [
    {
     "name": "stdout",
     "output_type": "stream",
     "text": [
      "Took 0.000307:\n"
     ]
    }
   ],
   "source": [
    "def timer(fnc, arg):\n",
    "    \n",
    "    t0 = time.time()\n",
    "    fnc(arg)\n",
    "    t1 = time.time()\n",
    "    return t1-t0\n",
    "\n",
    "print('Took %5f:' % timer(l_factorial, 900))"
   ]
  },
  {
   "cell_type": "markdown",
   "id": "56f52f43",
   "metadata": {},
   "source": [
    "**The fully functional way, with lambda wrapper functions**\n",
    "\n",
    "we can even turn timer() into a lambda functions"
   ]
  },
  {
   "cell_type": "code",
   "execution_count": 25,
   "id": "4428ef79",
   "metadata": {},
   "outputs": [
    {
     "name": "stdout",
     "output_type": "stream",
     "text": [
      "Took 0.000297:\n"
     ]
    }
   ],
   "source": [
    "l_timestamp = lambda fnc, arg: (time, time(), fnc(arg), time.time())\n",
    "l_diff = lambda t0, retval, t1: t1-t0\n",
    "l_timer = lambda fnc, arg: l_diff(*l_timestamp(fnc,arg))\n",
    "\n",
    "print('Took %5f:' % timer(l_factorial, 900))"
   ]
  },
  {
   "cell_type": "markdown",
   "id": "a7b08b3c",
   "metadata": {},
   "source": [
    "## Returning a Function from Another Function"
   ]
  },
  {
   "cell_type": "code",
   "execution_count": 26,
   "id": "a6bbb41e",
   "metadata": {},
   "outputs": [],
   "source": [
    "preheat_oven = lambda: print('Preheating oven')\n",
    "put_food_in = lambda: print('Putting food in')\n",
    "wait_five_minutes = lambda: print('waiting five minutes')\n",
    "take_food_out = lambda: print('Take food out')"
   ]
  },
  {
   "cell_type": "code",
   "execution_count": 27,
   "id": "0c70f7f4",
   "metadata": {},
   "outputs": [
    {
     "name": "stdout",
     "output_type": "stream",
     "text": [
      "Preheating oven\n",
      "Putting food in\n",
      "waiting five minutes\n",
      "Take food out\n"
     ]
    }
   ],
   "source": [
    "# Perform in order\n",
    "preheat_oven()\n",
    "put_food_in()\n",
    "wait_five_minutes()\n",
    "take_food_out()"
   ]
  },
  {
   "cell_type": "markdown",
   "id": "86a6d7e9",
   "metadata": {},
   "source": [
    "Alternatively, we can create a launcher function `perform_steps()` to which we pass all functions, and which then performs all these functions for us. This is, by itself, not very useful "
   ]
  },
  {
   "cell_type": "code",
   "execution_count": 28,
   "id": "1de26538",
   "metadata": {},
   "outputs": [
    {
     "name": "stdout",
     "output_type": "stream",
     "text": [
      "Preheating oven\n",
      "Putting food in\n",
      "waiting five minutes\n",
      "Take food out\n"
     ]
    }
   ],
   "source": [
    "def perform_steps(*functions):\n",
    "    \n",
    "    for function in functions:\n",
    "        function()\n",
    "        \n",
    "perform_steps(preheat_oven,\n",
    "    put_food_in,\n",
    "    wait_five_minutes,\n",
    "    take_food_out)"
   ]
  },
  {
   "cell_type": "markdown",
   "id": "d7ce2bf1",
   "metadata": {},
   "source": [
    "But we can go even further, we can create a `create_recipe()` function that takes all the functions, and returns a new function that exectues all the passed functions for us."
   ]
  },
  {
   "cell_type": "code",
   "execution_count": 29,
   "id": "c49ae6dd",
   "metadata": {},
   "outputs": [
    {
     "name": "stdout",
     "output_type": "stream",
     "text": [
      "Preheating oven\n",
      "Putting food in\n",
      "waiting five minutes\n",
      "Take food out\n"
     ]
    }
   ],
   "source": [
    "def create_recipe(*functions):\n",
    "    \n",
    "    def run_all():\n",
    "        \n",
    "        for function in functions:\n",
    "            function()\n",
    "            \n",
    "    return run_all\n",
    "\n",
    "recipe = create_recipe(preheat_oven,\n",
    "                      put_food_in,\n",
    "                      wait_five_minutes,\n",
    "                      take_food_out)\n",
    "\n",
    "recipe()"
   ]
  },
  {
   "cell_type": "markdown",
   "id": "0e84806f",
   "metadata": {},
   "source": [
    "## The Operator Module"
   ]
  },
  {
   "cell_type": "code",
   "execution_count": 30,
   "id": "45614f4a",
   "metadata": {},
   "outputs": [
    {
     "data": {
      "text/plain": [
       "6"
      ]
     },
     "execution_count": 30,
     "metadata": {},
     "output_type": "execute_result"
    }
   ],
   "source": [
    "# factorial function\n",
    "l_factorial = lambda n: 1 if n == 0 else n*l_factorial(n-1)\n",
    "l_factorial(3)"
   ]
  },
  {
   "cell_type": "markdown",
   "id": "8106ad9d",
   "metadata": {},
   "source": [
    "say we want to call this function a number of times, with different arguments, and so something with the return values"
   ]
  },
  {
   "cell_type": "code",
   "execution_count": 31,
   "id": "1a7f026f",
   "metadata": {},
   "outputs": [
    {
     "data": {
      "text/plain": [
       "12"
      ]
     },
     "execution_count": 31,
     "metadata": {},
     "output_type": "execute_result"
    }
   ],
   "source": [
    "def chain_mul(*what):\n",
    "    \n",
    "    \"\"\"Takes alist of (function, argument) tuples. calls each \n",
    "    function with its argument, multiplies up the return values,\n",
    "    (starting at 1) and returns the total.\"\"\"\n",
    "    \n",
    "    total = 1\n",
    "    for (fnc, arg) in what:\n",
    "        total *= fnc(arg)\n",
    "    return total\n",
    "\n",
    "chain_mul((l_factorial, 2), (l_factorial, 3))"
   ]
  },
  {
   "cell_type": "markdown",
   "id": "b09cc042",
   "metadata": {},
   "source": [
    "The function above is not very general: it can only multiply values, not multiply or subtract them. Ideally, we would pass an operator to the function as well. But * syntax and not an object that we can pass. Python's built-in `operator` as regular functions."
   ]
  },
  {
   "cell_type": "code",
   "execution_count": 32,
   "id": "2b36bb8a",
   "metadata": {},
   "outputs": [
    {
     "data": {
      "text/plain": [
       "0.08333333333333333"
      ]
     },
     "execution_count": 32,
     "metadata": {},
     "output_type": "execute_result"
    }
   ],
   "source": [
    "import operator \n",
    "\n",
    "def chain(how, *what):\n",
    "    \n",
    "    total = 1\n",
    "    for (fnc, arg) in what:\n",
    "        total = how(total, fnc(arg))\n",
    "    return total\n",
    "\n",
    "chain(operator.truediv,(l_factorial, 2), (l_factorial, 3))"
   ]
  },
  {
   "cell_type": "markdown",
   "id": "68310612",
   "metadata": {},
   "source": [
    "# <u> Common Functional Design Patterns"
   ]
  },
  {
   "cell_type": "markdown",
   "id": "2758582b",
   "metadata": {},
   "source": [
    "## Currying - One Argument per Function\n",
    "\n",
    "* Reduce a function with multiple arguments to a chain of higher order functions that take one argument. e.g `add(1,2,3) --> add(1)(2)(3)`."
   ]
  },
  {
   "cell_type": "code",
   "execution_count": 33,
   "id": "b8bf6716",
   "metadata": {},
   "outputs": [
    {
     "name": "stdout",
     "output_type": "stream",
     "text": [
      "1110\n"
     ]
    }
   ],
   "source": [
    "# most functions take multiple arguments\n",
    "def add(a, b, c):\n",
    "    \n",
    "    return a + b + c\n",
    "\n",
    "print(add(10,100,1000))"
   ]
  },
  {
   "cell_type": "markdown",
   "id": "e5a21159",
   "metadata": {},
   "source": [
    "But we can 'bind' arguments to a function, so that we end up with a function that takes one argument less than the original function. This is done with `functools.partial()`."
   ]
  },
  {
   "cell_type": "code",
   "execution_count": 34,
   "id": "dc5f7c31",
   "metadata": {},
   "outputs": [
    {
     "name": "stdout",
     "output_type": "stream",
     "text": [
      "1110\n"
     ]
    }
   ],
   "source": [
    "from functools import partial\n",
    "\n",
    "add_10 = partial(add, 10)\n",
    "add_10_100 = partial(add_10, 100)\n",
    "print(add_10_100(1000))"
   ]
  },
  {
   "cell_type": "markdown",
   "id": "d68b6660",
   "metadata": {},
   "source": [
    "*Currying* is a specific kind of argument binding, in which we create a sequence of functions that each take exactly one argument. In python, we can implement this elegantly with a decorator"
   ]
  },
  {
   "cell_type": "code",
   "execution_count": 35,
   "id": "88a88944",
   "metadata": {},
   "outputs": [
    {
     "name": "stdout",
     "output_type": "stream",
     "text": [
      "1110\n"
     ]
    }
   ],
   "source": [
    "from inspect import signature\n",
    "\n",
    "def curry(fnc):\n",
    "    \n",
    "    def inner(arg):\n",
    "        \n",
    "        if len(signature(fnc).parameters) == 1:\n",
    "            return fnc(arg)\n",
    "        return curry(partial(fnc,arg))\n",
    "    \n",
    "    return inner\n",
    "\n",
    "@curry\n",
    "def add(a, b, c):\n",
    "    \n",
    "    return a + b + c\n",
    "\n",
    "print(add(10)(100)(1000))"
   ]
  },
  {
   "cell_type": "markdown",
   "id": "051e4347",
   "metadata": {},
   "source": [
    "## Monads\n",
    "\n",
    "* Variables that decide how they should be treated"
   ]
  },
  {
   "cell_type": "code",
   "execution_count": 36,
   "id": "8e0db3e9",
   "metadata": {},
   "outputs": [
    {
     "name": "stdout",
     "output_type": "stream",
     "text": [
      "SomeFunction\n"
     ]
    }
   ],
   "source": [
    "# camelCase function\n",
    "\n",
    "def camelcase(s):\n",
    "    \n",
    "    return ''.join([w.capitalize() for w in s.split('_')])\n",
    "print(camelcase('some_function'))"
   ]
  },
  {
   "cell_type": "markdown",
   "id": "78d596a4",
   "metadata": {},
   "source": [
    "**The Maybe Monad**\n",
    "\n",
    "The maybe monad consists of two kinds of data, which are typically `Just` and `Nothing`. They both behave very simply\n",
    "\n",
    "* When a function is bound to a `Just` value, the function is simply executed, and the result is stored in a new `Just` value.\n",
    "* When a function is bound to `Nothing` value, the function is bypassed, and `Nothing` is returned right away.\n",
    "* In addition, when a function generates an error, it returns a `Nothing` value.\n",
    "\n",
    "similar to `nan` behaviour"
   ]
  },
  {
   "cell_type": "code",
   "execution_count": 37,
   "id": "7cbd395e",
   "metadata": {},
   "outputs": [
    {
     "name": "stdout",
     "output_type": "stream",
     "text": [
      "SomeFunction\n",
      "Nothing\n",
      "Nothing\n"
     ]
    }
   ],
   "source": [
    "class Just:\n",
    "    \n",
    "    def __init__(self, value):\n",
    "        \n",
    "        self._value = value\n",
    "        \n",
    "    def bind(self, fnc):\n",
    "        \n",
    "        try:\n",
    "            return Just(fnc(self._value))\n",
    "        except:\n",
    "            return Nothing()\n",
    "        \n",
    "    def __repr__(self):\n",
    "        \n",
    "        return self._value\n",
    "    \n",
    "\n",
    "class Nothing:\n",
    "    \n",
    "    def bind(self, fnc):\n",
    "        \n",
    "        return Nothing()\n",
    "    \n",
    "    def __repr__(self):\n",
    "        \n",
    "        return 'Nothing'\n",
    "    \n",
    "print(Just('some_function').bind(camelcase))\n",
    "print(Nothing().bind(camelcase))\n",
    "print(Just(10).bind(camelcase))"
   ]
  },
  {
   "cell_type": "markdown",
   "id": "c4e76f30",
   "metadata": {},
   "source": [
    "**The List Monad**\n",
    "\n",
    "* The `List` monad stores a list of values. When it is bound to a function, each value is passed onto the function seperately, and the result is stored as another list.\n"
   ]
  },
  {
   "cell_type": "code",
   "execution_count": 38,
   "id": "6c32078b",
   "metadata": {},
   "outputs": [
    {
     "data": {
      "text/plain": [
       "['SomeText', 'MoreText']"
      ]
     },
     "execution_count": 38,
     "metadata": {},
     "output_type": "execute_result"
    }
   ],
   "source": [
    "class List:\n",
    "    \n",
    "    def __init__(self, values):\n",
    "        \n",
    "        self._values = values\n",
    "        \n",
    "    def bind(self, fnc):\n",
    "        \n",
    "        return List([fnc(value) for value in self._values])\n",
    "    \n",
    "    def __repr__(self):\n",
    "        \n",
    "        return str(self._values)\n",
    "    \n",
    "List(['some_text', 'more_text']).bind(camelcase)"
   ]
  },
  {
   "cell_type": "markdown",
   "id": "ff26743b",
   "metadata": {},
   "source": [
    "## Memoization\n",
    "\n",
    "*  Remembering results"
   ]
  },
  {
   "cell_type": "markdown",
   "id": "bc87d790",
   "metadata": {},
   "source": [
    "**Some functions are expensive**\n",
    "\n",
    "Consider a function that can take a long time to execute"
   ]
  },
  {
   "cell_type": "code",
   "execution_count": 39,
   "id": "66f313c4",
   "metadata": {},
   "outputs": [
    {
     "name": "stdout",
     "output_type": "stream",
     "text": [
      "999983\n"
     ]
    }
   ],
   "source": [
    "# prime number function, find prime <= n\n",
    "\n",
    "def prime(n):\n",
    "    \n",
    "    for i in range(n, 0, -1):\n",
    "        if all([i// x !=i / x for x in range(i-1, 1, -1)]):\n",
    "            return i\n",
    "        \n",
    "print(prime(1000000))"
   ]
  },
  {
   "cell_type": "markdown",
   "id": "585f050b",
   "metadata": {},
   "source": [
    "**Caching**\n",
    "\n",
    "We can speed up function calls by storing the result in a cache"
   ]
  },
  {
   "cell_type": "code",
   "execution_count": 40,
   "id": "2de20ccf",
   "metadata": {},
   "outputs": [
    {
     "name": "stdout",
     "output_type": "stream",
     "text": [
      "999983\n",
      "999983\n"
     ]
    }
   ],
   "source": [
    "# inelegant implementation of memoization\n",
    "cache = {}\n",
    "\n",
    "def cached_prime(n):\n",
    "    \n",
    "    if n in cache:\n",
    "        return cache[n]\n",
    "    for i in range(n, 0, -1):\n",
    "        if all([i// x !=i / x for x in range(i-1, 1, -1)]):\n",
    "            cache[n] = i\n",
    "            return i\n",
    "        \n",
    "print(cached_prime(1000000))\n",
    "print(cached_prime(1000000)) # second call should be almost instant"
   ]
  },
  {
   "cell_type": "markdown",
   "id": "42bcda8a",
   "metadata": {},
   "source": [
    "**Memoization**\n",
    "\n",
    "Memoization is a type of caching in which return values are stored for specific arguments. Therefore, the implementation above is an example of memoization. But it can be implemented more elegantly using a decorator."
   ]
  },
  {
   "cell_type": "code",
   "execution_count": 41,
   "id": "842fd8e1",
   "metadata": {},
   "outputs": [
    {
     "name": "stdout",
     "output_type": "stream",
     "text": [
      "99991\n",
      "99991\n"
     ]
    }
   ],
   "source": [
    "def memoize(fnc):\n",
    "    \n",
    "    cache = {}\n",
    "    \n",
    "    def inner(*args):\n",
    "        \n",
    "        if args in cache:\n",
    "            return cache[args]\n",
    "        cache[args] = fnc(*args)\n",
    "        return cache[args]\n",
    "    \n",
    "    return inner\n",
    "\n",
    "@memoize\n",
    "def memoized_prime(n):\n",
    "    \n",
    "    for i in range(n, 0, -1):\n",
    "        if all([i // x != i / x for x in range(i-1, 1, -1)]):\n",
    "            return i\n",
    "        \n",
    "print(memoized_prime(100000))  \n",
    "print(memoized_prime(100000))"
   ]
  },
  {
   "cell_type": "markdown",
   "id": "76d30db9",
   "metadata": {},
   "source": [
    "# <u> Errors and Execptions in Lambda Expressions\n"
   ]
  },
  {
   "cell_type": "markdown",
   "id": "fae9e698",
   "metadata": {},
   "source": [
    "**Exceptions**\n",
    "\n",
    "* In python, `Exceptions` are the main way to deal with errors. Whenever an error occurs, an `Exception` is 'raised'. This causes the code to abort, until the Exceptions is caught in a try: ... `except` ... statment.\n"
   ]
  },
  {
   "cell_type": "code",
   "execution_count": 42,
   "id": "bfe6957e",
   "metadata": {},
   "outputs": [
    {
     "name": "stdout",
     "output_type": "stream",
     "text": [
      "3\n",
      "None\n"
     ]
    }
   ],
   "source": [
    "def add_str(s):\n",
    "    \n",
    "    try:\n",
    "        return sum([int(i) for i in s.split('+')])\n",
    "    except AttributeError:\n",
    "        return None\n",
    "    \n",
    "print(add_str('1+2'))\n",
    "print(add_str(1+2))"
   ]
  },
  {
   "cell_type": "markdown",
   "id": "bbc67b20",
   "metadata": {},
   "source": [
    "but `try` is a *statement*, and we can therefore not use it in `lambda` expressions. Unlike for most other statements, Python does not offer an expression alternative to the `try` statement."
   ]
  },
  {
   "cell_type": "code",
   "execution_count": 43,
   "id": "efbbab71",
   "metadata": {},
   "outputs": [
    {
     "name": "stdout",
     "output_type": "stream",
     "text": [
      "3\n"
     ]
    },
    {
     "ename": "AttributeError",
     "evalue": "'int' object has no attribute 'split'",
     "output_type": "error",
     "traceback": [
      "\u001b[0;31m---------------------------------------------------------------------------\u001b[0m",
      "\u001b[0;31mAttributeError\u001b[0m                            Traceback (most recent call last)",
      "\u001b[0;32m/tmp/ipykernel_107193/123956538.py\u001b[0m in \u001b[0;36m<module>\u001b[0;34m\u001b[0m\n\u001b[1;32m      2\u001b[0m \u001b[0;34m\u001b[0m\u001b[0m\n\u001b[1;32m      3\u001b[0m \u001b[0mprint\u001b[0m\u001b[0;34m(\u001b[0m\u001b[0ml_add_str\u001b[0m\u001b[0;34m(\u001b[0m\u001b[0;34m'1+2'\u001b[0m\u001b[0;34m)\u001b[0m\u001b[0;34m)\u001b[0m\u001b[0;34m\u001b[0m\u001b[0;34m\u001b[0m\u001b[0m\n\u001b[0;32m----> 4\u001b[0;31m \u001b[0mprint\u001b[0m\u001b[0;34m(\u001b[0m\u001b[0ml_add_str\u001b[0m\u001b[0;34m(\u001b[0m\u001b[0;36m1\u001b[0m\u001b[0;34m+\u001b[0m\u001b[0;36m2\u001b[0m\u001b[0;34m)\u001b[0m\u001b[0;34m)\u001b[0m \u001b[0;31m# error\u001b[0m\u001b[0;34m\u001b[0m\u001b[0;34m\u001b[0m\u001b[0m\n\u001b[0m",
      "\u001b[0;32m/tmp/ipykernel_107193/123956538.py\u001b[0m in \u001b[0;36m<lambda>\u001b[0;34m(s)\u001b[0m\n\u001b[0;32m----> 1\u001b[0;31m \u001b[0ml_add_str\u001b[0m \u001b[0;34m=\u001b[0m \u001b[0;32mlambda\u001b[0m \u001b[0ms\u001b[0m\u001b[0;34m:\u001b[0m \u001b[0msum\u001b[0m\u001b[0;34m(\u001b[0m\u001b[0;34m[\u001b[0m\u001b[0mint\u001b[0m\u001b[0;34m(\u001b[0m\u001b[0mi\u001b[0m\u001b[0;34m)\u001b[0m \u001b[0;32mfor\u001b[0m \u001b[0mi\u001b[0m \u001b[0;32min\u001b[0m \u001b[0ms\u001b[0m\u001b[0;34m.\u001b[0m\u001b[0msplit\u001b[0m\u001b[0;34m(\u001b[0m\u001b[0;34m'+'\u001b[0m\u001b[0;34m)\u001b[0m\u001b[0;34m]\u001b[0m\u001b[0;34m)\u001b[0m\u001b[0;34m\u001b[0m\u001b[0;34m\u001b[0m\u001b[0m\n\u001b[0m\u001b[1;32m      2\u001b[0m \u001b[0;34m\u001b[0m\u001b[0m\n\u001b[1;32m      3\u001b[0m \u001b[0mprint\u001b[0m\u001b[0;34m(\u001b[0m\u001b[0ml_add_str\u001b[0m\u001b[0;34m(\u001b[0m\u001b[0;34m'1+2'\u001b[0m\u001b[0;34m)\u001b[0m\u001b[0;34m)\u001b[0m\u001b[0;34m\u001b[0m\u001b[0;34m\u001b[0m\u001b[0m\n\u001b[1;32m      4\u001b[0m \u001b[0mprint\u001b[0m\u001b[0;34m(\u001b[0m\u001b[0ml_add_str\u001b[0m\u001b[0;34m(\u001b[0m\u001b[0;36m1\u001b[0m\u001b[0;34m+\u001b[0m\u001b[0;36m2\u001b[0m\u001b[0;34m)\u001b[0m\u001b[0;34m)\u001b[0m \u001b[0;31m# error\u001b[0m\u001b[0;34m\u001b[0m\u001b[0;34m\u001b[0m\u001b[0m\n",
      "\u001b[0;31mAttributeError\u001b[0m: 'int' object has no attribute 'split'"
     ]
    }
   ],
   "source": [
    "l_add_str = lambda s: sum([int(i) for i in s.split('+')])\n",
    "\n",
    "print(l_add_str('1+2'))\n",
    "print(l_add_str(1+2)) # error"
   ]
  },
  {
   "cell_type": "markdown",
   "id": "3e104974",
   "metadata": {},
   "source": [
    "## Handling Errors"
   ]
  },
  {
   "cell_type": "code",
   "execution_count": 44,
   "id": "a8792f83",
   "metadata": {},
   "outputs": [],
   "source": [
    "# lambda expression from earlier\n",
    "l_add_str = lambda s: sum([int(i) for i in s.split('+')])"
   ]
  },
  {
   "cell_type": "markdown",
   "id": "d27e55b4",
   "metadata": {},
   "source": [
    "The maybe monad is not very pythonic. But we can do something similar using a decorator"
   ]
  },
  {
   "cell_type": "code",
   "execution_count": 45,
   "id": "2deb5445",
   "metadata": {},
   "outputs": [
    {
     "name": "stdout",
     "output_type": "stream",
     "text": [
      "3\n",
      "'int' object has no attribute 'split'\n"
     ]
    }
   ],
   "source": [
    "def maybe(fnc):\n",
    "    \n",
    "    def inner(*args):\n",
    "        \n",
    "        for a in args:\n",
    "            if isinstance(a, Exception):\n",
    "                return a\n",
    "        try:\n",
    "            return fnc(*args)\n",
    "        except Exception as e:\n",
    "            return e\n",
    "        \n",
    "    return inner\n",
    "\n",
    "safe_add_str = maybe(l_add_str)\n",
    "print(safe_add_str('1+2'))\n",
    "print(safe_add_str(1+2))"
   ]
  },
  {
   "cell_type": "code",
   "execution_count": 46,
   "id": "9bca0058",
   "metadata": {},
   "outputs": [
    {
     "name": "stdout",
     "output_type": "stream",
     "text": [
      "Enter an integer: 2\n",
      "Enter an operator(+, -, *, /): 2\n",
      "Enter an integer: 2\n",
      "The result is: None\n"
     ]
    }
   ],
   "source": [
    "# functional style calculator from earlier\n",
    "OPERATORS = '+', '-', '*', '/'\n",
    "\n",
    "def f_get_number():\n",
    "    \n",
    "    return int(input('Enter an integer: '))   #unsafe\n",
    "\n",
    "def f_get_operator():\n",
    "    \n",
    "    return input('Enter an operator(+, -, *, /): ')    #unsafe\n",
    "\n",
    "def f_calculate(number1, operator, number2):\n",
    "    \n",
    "    return number1+number2 if operator =='+'\\\n",
    "        else number1-number2 if operator =='-'\\\n",
    "        else number1*number2 if operator =='*'\\\n",
    "        else number1/number2 if operator =='/'\\\n",
    "        else None\n",
    "\n",
    "def f_main():\n",
    "    return f_calculate(\n",
    "    f_get_number(),\n",
    "    f_get_operator(),\n",
    "    f_get_number(),\n",
    "    )\n",
    "\n",
    "print('The result is:', f_main())"
   ]
  },
  {
   "cell_type": "markdown",
   "id": "0949a7be",
   "metadata": {},
   "source": [
    "This calculator does is very unsafe as it does not handle input validation and it also does not loop. We can improve using\n",
    "\n",
    "* lambda expressions\n",
    "* Decorators\n",
    "* Higher-order functions"
   ]
  },
  {
   "cell_type": "code",
   "execution_count": 58,
   "id": "72b000aa",
   "metadata": {},
   "outputs": [
    {
     "name": "stdout",
     "output_type": "stream",
     "text": [
      "Enter an integer: 5\n",
      "Enter an operator (+, -, *, /):*\n",
      "Enter an integer: 5\n",
      "The result is: 25\n"
     ]
    }
   ],
   "source": [
    "OPERATORS = '+', '-', '*', '/'\n",
    "\n",
    "def maybe(fnc):\n",
    "    \n",
    "    \"\"\"Turns Exceptions into return values\"\"\"\n",
    "    \n",
    "    def inner(*args):\n",
    "        \n",
    "        for a in args:\n",
    "            if isinstance(a, Exception):\n",
    "                return a\n",
    "        try:\n",
    "            return fnc(*args)\n",
    "        except Exception as e:\n",
    "            return e\n",
    "        \n",
    "    return inner\n",
    "\n",
    "def repeat(fnc, until):\n",
    "    \n",
    "    \"\"\"Repeats function until its return valie meets\n",
    "    the stop criterion\"\"\"\n",
    "    \n",
    "    def inner(*args):\n",
    "        \n",
    "        while True:\n",
    "            result = fnc(*args)\n",
    "            if until(result):\n",
    "                return result\n",
    "            \n",
    "    return inner\n",
    "\n",
    "is_int = lambda i: isinstance(i, int)\n",
    "get_number = lambda: int(input('Enter an integer: '))\n",
    "safe_get_number = repeat(maybe(get_number), until=is_int)\n",
    "\n",
    "is_operator = lambda o: o in OPERATORS\n",
    "get_operator = lambda: input('Enter an operator (+, -, *, /):')\n",
    "safe_get_operator = repeat(get_operator, until=is_operator)\n",
    "\n",
    "calculate = lambda number1, operator, number2:\\\n",
    "        number1+number2 if operator =='+'\\\n",
    "        else number1-number2 if operator =='-'\\\n",
    "        else number1*number2 if operator =='*'\\\n",
    "        else number1/number2 if operator =='/'\\\n",
    "        else None\n",
    "\n",
    "main=lambda: calculate(\n",
    "        safe_get_number(),\n",
    "        safe_get_operator(),\n",
    "        safe_get_number(),\n",
    "        )\n",
    "\n",
    "forever = lambda retval: False\n",
    "main_loop = repeat(lambda: print(main()), until = forever)\n",
    "\n",
    "print('The result is: %s' % main())"
   ]
  },
  {
   "cell_type": "code",
   "execution_count": null,
   "id": "ad6576c1",
   "metadata": {},
   "outputs": [],
   "source": []
  }
 ],
 "metadata": {
  "kernelspec": {
   "display_name": "Python 3 (ipykernel)",
   "language": "python",
   "name": "python3"
  },
  "language_info": {
   "codemirror_mode": {
    "name": "ipython",
    "version": 3
   },
   "file_extension": ".py",
   "mimetype": "text/x-python",
   "name": "python",
   "nbconvert_exporter": "python",
   "pygments_lexer": "ipython3",
   "version": "3.10.4"
  }
 },
 "nbformat": 4,
 "nbformat_minor": 5
}
